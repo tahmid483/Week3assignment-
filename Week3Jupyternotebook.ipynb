{
 "cells": [
  {
   "cell_type": "code",
   "execution_count": null,
   "metadata": {},
   "outputs": [],
   "source": [
    "import pandas as pd\n",
    "import numpy as np\n",
    "\n",
    "cum_miles = np.array([55,120,150,210,287,350,400,450,500])\n",
    "cum_series = pd.Series(cum_miles)\n",
    "\n",
    "each_day = np.array([cum_series[0]])\n",
    "\n",
    "for i in range(1,len(cum_series)):\n",
    "    each_day = np.append(each_day, cum_series[i] - cum_series[i-1])\n",
    "print(\"Each day's mileage:\", each_day)"
   ]
  }
 ],
 "metadata": {
  "kernelspec": {
   "display_name": "Python 3",
   "language": "python",
   "name": "python3"
  },
  "language_info": {
   "name": "python",
   "version": "3.13.2"
  }
 },
 "nbformat": 4,
 "nbformat_minor": 2
}
